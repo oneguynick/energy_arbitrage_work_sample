{
 "cells": [
  {
   "cell_type": "markdown",
   "metadata": {},
   "source": [
    "# Blueprint Power Modeling Engineer Interview Project\n",
    "\n",
    "Stephen Klosterman\n",
    "\n",
    "steve.klosterman@gmail.com\n",
    "\n",
    "11/7/2018"
   ]
  },
  {
   "cell_type": "code",
   "execution_count": 1,
   "metadata": {
    "collapsed": true
   },
   "outputs": [],
   "source": [
    "#Load packages\n",
    "import pulp\n",
    "import os\n",
    "import numpy as np\n",
    "import pandas as pd\n",
    "import matplotlib as mpl\n",
    "import matplotlib.pyplot as plt\n",
    "import matplotlib.patches as mpatches\n",
    "import time\n",
    "import datetime\n",
    "import pytz\n",
    "%matplotlib inline "
   ]
  },
  {
   "cell_type": "code",
   "execution_count": 2,
   "metadata": {
    "collapsed": true
   },
   "outputs": [],
   "source": [
    "#Define constants from requirements document\n",
    "zone_of_interest = 'N.Y.C.'\n",
    "max_discharge_power_capacity = 100 #(kW)\n",
    "max_charge_power_capacity = 100 #(kW)\n",
    "discharge_energy_capacity = 200 #(kWh)\n",
    "efficiency = 0.85 #unitless\n",
    "max_daily_discharged_throughput = 200  #(kWh)"
   ]
  },
  {
   "cell_type": "code",
   "execution_count": 3,
   "metadata": {
    "collapsed": false
   },
   "outputs": [
    {
     "data": {
      "text/plain": [
       "100"
      ]
     },
     "execution_count": 3,
     "metadata": {},
     "output_type": "execute_result"
    }
   ],
   "source": [
    "#Assume the battery is half-way charged to start\n",
    "initial_level = discharge_energy_capacity/2\n",
    "initial_level"
   ]
  },
  {
   "cell_type": "markdown",
   "metadata": {},
   "source": [
    "## Problem and approach\n",
    "\n",
    "The task is to formulate an operation strategy for a grid connected battery system, to perform energy arbitrage on the NYISO day ahead market. I will assume that the system operates on publicly available information. The NYISO makes the next day's hourly energy prices available at 11am each day ([NYISO Day-Ahead Scheduling Manual](http://www.nyiso.com/public/webdocs/markets_operations/documents/Manuals_and_Guides/Manuals/Operations/dayahd_schd_mnl.pdf) page 2-4). The system design will schedule the next 24 hours of battery operation (noon of the current day through the 11am hour of the next day) using this information, in order to use the most up-to-date prices. I will assume that after the daily price announcement from the NYISO, the next 36 hours of price information are available: the prices for the remaining 12 hours of the current day, as well as 24 hours worth of prices for the next day. Therefore the optimization time horizon will be 36 hours, to take advantage of all available future price information.\n",
    "\n",
    "The battery is a price taker, meaning its activities do not affect the price of energy. The price paid for power to charge the battery, and revenue from discharging, is the location based marginal price (LBMP), which takes in to account the system marginal price, congestion component, and marginal loss component ([Locational Marginal Pricing Components](https://www.pjm.com/-/media/training/nerc-certifications/markets-exam-materials/mkt-optimization-wkshp/locational-marginal-pricing-components.ashx?la=en)). The goal is to maximize profit, given the day ahead prices and the battery system's parameters.\n",
    "\n",
    "In this scenario, where future prices are known and the battery system is a price taker, the problem can be solved by linear programming (Salles et al. 2017, Sioshansi et al. 2009, Wang and Zhang 2018). Loosely following the notation of Sioshansi et al. (2009), the objective is to maximize profit:\n",
    "\n",
    "$$ \\text{max} \\sum_{t=12\\text{pm of current day}}^{11\\text{pm of next day}} p_t \\cdot (d_t - c_t)$$\n",
    "\n",
    "where $p_t$ is the LBMP (\\$/MWh) and $d_t$ and $c_t$ are the discharging and charging power flows, respectively (kW), all at time $t$, which will be an hourly time step. This objective maximizes profit for a time period starting at noon the current day, through the 11pm hour the next day (i.e. up until immediately before midnight the next day). The objective is subject to a battery storage constraint:\n",
    "\n",
    "$$ 0 <= \\sum_{t_f = 1\\text{pm of current day}}^{11\\text{pm of next day}} \\sum_{t=12\\text{pm of current day}}^{t_f} s_{i} + \\eta \\cdot\n",
    "c_t - d_t <= \\text{discharge energy capacity (kWh)}$$\n",
    "\n",
    "where $s_i$ is the state of energy (kWh) of the battery at the start of the 36-hour optimization period and $\\eta$ is the round-trip efficiency of the battery. This constraint requires the battery's state of energy (sum of initial state and hourly power flows) to be between zero, assuming the battery has complete depth of discharge capabilities, and the battery's discharge energy capacity, for each hour of the optimization horizon. In this constraint, the power flows (kW) are understood to be converted to units of energy (kWh) through multiplication by the one hour time step.\n",
    "\n",
    "The charge flows are governed by\n",
    "\n",
    "$$ c_t, d_t < \\kappa, \\forall t $$\n",
    "\n",
    "where $\\kappa$ (kW) is the maximum charge and discharge power capacity, assumed equal for this problem, and maximum daily discharged throughput $\\tau$ (kWh):\n",
    "\n",
    "$$ \\sum_{t=12\\text{pm of current day}}^{11\\text{am of next day}} d_t <= \\tau$$\n",
    "\n",
    "$$ \\sum_{t=12\\text{pm of next day}}^{11\\text{pm of next day}} d_t <= 0.5 \\cdot \\tau$$\n",
    "\n",
    "In this notebook I will import the price data for solving the problem, set up and solve the optimization using the PuLP library for linear programming, and examine the optimal battery dispatch strategy."
   ]
  },
  {
   "cell_type": "markdown",
   "metadata": {},
   "source": [
    "# Load data\n",
    "The data is supplied as LBMPs for several zones, at an hourly time step throughout 2017. Here I load the CSV files (one per day) and concatenate them on to a DataFrame."
   ]
  },
  {
   "cell_type": "code",
   "execution_count": 4,
   "metadata": {
    "collapsed": true
   },
   "outputs": [],
   "source": [
    "#Directory of data supplied with problem\n",
    "data_dir = '../2017_NYISO_LBMPs/'"
   ]
  },
  {
   "cell_type": "code",
   "execution_count": 5,
   "metadata": {
    "collapsed": false
   },
   "outputs": [
    {
     "data": {
      "text/plain": [
       "['.DS_Store',\n",
       " '20170101damlbmp_zone_csv',\n",
       " '20170201damlbmp_zone_csv',\n",
       " '20170301damlbmp_zone_csv',\n",
       " '20170401damlbmp_zone_csv',\n",
       " '20170501damlbmp_zone_csv',\n",
       " '20170601damlbmp_zone_csv',\n",
       " '20170701damlbmp_zone_csv',\n",
       " '20170801damlbmp_zone_csv',\n",
       " '20170901damlbmp_zone_csv',\n",
       " '20171001damlbmp_zone_csv',\n",
       " '20171101damlbmp_zone_csv',\n",
       " '20171201damlbmp_zone_csv']"
      ]
     },
     "execution_count": 5,
     "metadata": {},
     "output_type": "execute_result"
    }
   ],
   "source": [
    "dir_list = os.listdir(data_dir)\n",
    "dir_list.sort()\n",
    "dir_list"
   ]
  },
  {
   "cell_type": "code",
   "execution_count": 6,
   "metadata": {
    "collapsed": false
   },
   "outputs": [],
   "source": [
    "#Remove invisible files (i.e. .DS_Store used by Mac OS)\n",
    "for this_item in dir_list:\n",
    "    if this_item[0] == '.':\n",
    "        dir_list.remove(this_item)"
   ]
  },
  {
   "cell_type": "markdown",
   "metadata": {},
   "source": [
    "Loop through all the subdirectories, loading all the CSV files."
   ]
  },
  {
   "cell_type": "code",
   "execution_count": 7,
   "metadata": {
    "collapsed": false
   },
   "outputs": [
    {
     "name": "stdout",
     "output_type": "stream",
     "text": [
      "1.71664500237 seconds run time\n"
     ]
    }
   ],
   "source": [
    "tic = time.time()\n",
    "#count loaded files\n",
    "file_counter = 0\n",
    "\n",
    "#For each subdirectory in the parent directory\n",
    "for this_sub_dir in dir_list:\n",
    "    #List the files\n",
    "    this_sub_dir_list = os.listdir(data_dir + '/' + this_sub_dir)\n",
    "    #Sort the list\n",
    "    this_sub_dir_list.sort()\n",
    "    #Delete invisible files (that start with '.')\n",
    "    for this_item in this_sub_dir_list:\n",
    "        if this_item[0] == '.':\n",
    "            this_sub_dir_list.remove(this_item)\n",
    "    #For each file in the subdirectory\n",
    "    for this_file in this_sub_dir_list:\n",
    "        #Load the contents into a DataFrame\n",
    "        this_df = pd.read_csv(data_dir + '/' + this_sub_dir + '/' + this_file)#,\n",
    "        #Concatenate with existing data if past first file\n",
    "        if file_counter == 0:\n",
    "            all_data = this_df.copy()\n",
    "        else:\n",
    "            all_data = pd.concat([all_data, this_df])\n",
    "        \n",
    "        file_counter += 1\n",
    "toc = time.time()\n",
    "print(str(toc-tic) + ' seconds run time')"
   ]
  },
  {
   "cell_type": "markdown",
   "metadata": {},
   "source": [
    "Examine the data"
   ]
  },
  {
   "cell_type": "code",
   "execution_count": 8,
   "metadata": {
    "collapsed": false
   },
   "outputs": [
    {
     "data": {
      "text/html": [
       "<div>\n",
       "<style>\n",
       "    .dataframe thead tr:only-child th {\n",
       "        text-align: right;\n",
       "    }\n",
       "\n",
       "    .dataframe thead th {\n",
       "        text-align: left;\n",
       "    }\n",
       "\n",
       "    .dataframe tbody tr th {\n",
       "        vertical-align: top;\n",
       "    }\n",
       "</style>\n",
       "<table border=\"1\" class=\"dataframe\">\n",
       "  <thead>\n",
       "    <tr style=\"text-align: right;\">\n",
       "      <th></th>\n",
       "      <th>Time Stamp</th>\n",
       "      <th>Name</th>\n",
       "      <th>PTID</th>\n",
       "      <th>LBMP ($/MWHr)</th>\n",
       "      <th>Marginal Cost Losses ($/MWHr)</th>\n",
       "      <th>Marginal Cost Congestion ($/MWHr)</th>\n",
       "    </tr>\n",
       "  </thead>\n",
       "  <tbody>\n",
       "    <tr>\n",
       "      <th>0</th>\n",
       "      <td>01/01/2017 00:00</td>\n",
       "      <td>CAPITL</td>\n",
       "      <td>61757</td>\n",
       "      <td>42.06</td>\n",
       "      <td>0.68</td>\n",
       "      <td>-29.05</td>\n",
       "    </tr>\n",
       "    <tr>\n",
       "      <th>1</th>\n",
       "      <td>01/01/2017 00:00</td>\n",
       "      <td>CENTRL</td>\n",
       "      <td>61754</td>\n",
       "      <td>15.50</td>\n",
       "      <td>0.20</td>\n",
       "      <td>-2.98</td>\n",
       "    </tr>\n",
       "    <tr>\n",
       "      <th>2</th>\n",
       "      <td>01/01/2017 00:00</td>\n",
       "      <td>DUNWOD</td>\n",
       "      <td>61760</td>\n",
       "      <td>33.52</td>\n",
       "      <td>1.13</td>\n",
       "      <td>-20.06</td>\n",
       "    </tr>\n",
       "    <tr>\n",
       "      <th>3</th>\n",
       "      <td>01/01/2017 00:00</td>\n",
       "      <td>GENESE</td>\n",
       "      <td>61753</td>\n",
       "      <td>14.67</td>\n",
       "      <td>0.04</td>\n",
       "      <td>-2.31</td>\n",
       "    </tr>\n",
       "    <tr>\n",
       "      <th>4</th>\n",
       "      <td>01/01/2017 00:00</td>\n",
       "      <td>H Q</td>\n",
       "      <td>61844</td>\n",
       "      <td>11.89</td>\n",
       "      <td>-0.43</td>\n",
       "      <td>0.00</td>\n",
       "    </tr>\n",
       "  </tbody>\n",
       "</table>\n",
       "</div>"
      ],
      "text/plain": [
       "         Time Stamp    Name   PTID  LBMP ($/MWHr)  \\\n",
       "0  01/01/2017 00:00  CAPITL  61757          42.06   \n",
       "1  01/01/2017 00:00  CENTRL  61754          15.50   \n",
       "2  01/01/2017 00:00  DUNWOD  61760          33.52   \n",
       "3  01/01/2017 00:00  GENESE  61753          14.67   \n",
       "4  01/01/2017 00:00     H Q  61844          11.89   \n",
       "\n",
       "   Marginal Cost Losses ($/MWHr)  Marginal Cost Congestion ($/MWHr)  \n",
       "0                           0.68                             -29.05  \n",
       "1                           0.20                              -2.98  \n",
       "2                           1.13                             -20.06  \n",
       "3                           0.04                              -2.31  \n",
       "4                          -0.43                               0.00  "
      ]
     },
     "execution_count": 8,
     "metadata": {},
     "output_type": "execute_result"
    }
   ],
   "source": [
    "all_data.head()"
   ]
  },
  {
   "cell_type": "markdown",
   "metadata": {},
   "source": [
    "Sanity checks on data. Were 365 days of data loaded?"
   ]
  },
  {
   "cell_type": "code",
   "execution_count": 9,
   "metadata": {
    "collapsed": false
   },
   "outputs": [
    {
     "data": {
      "text/plain": [
       "True"
      ]
     },
     "execution_count": 9,
     "metadata": {},
     "output_type": "execute_result"
    }
   ],
   "source": [
    "file_counter == 365"
   ]
  },
  {
   "cell_type": "markdown",
   "metadata": {},
   "source": [
    "How many zones are there, and what are they?"
   ]
  },
  {
   "cell_type": "code",
   "execution_count": 10,
   "metadata": {
    "collapsed": false
   },
   "outputs": [
    {
     "name": "stdout",
     "output_type": "stream",
     "text": [
      "15\n"
     ]
    },
    {
     "data": {
      "text/plain": [
       "array(['CAPITL', 'CENTRL', 'DUNWOD', 'GENESE', 'H Q', 'HUD VL', 'LONGIL',\n",
       "       'MHK VL', 'MILLWD', 'N.Y.C.', 'NORTH', 'NPX', 'O H', 'PJM', 'WEST'], dtype=object)"
      ]
     },
     "execution_count": 10,
     "metadata": {},
     "output_type": "execute_result"
    }
   ],
   "source": [
    "unique_names = all_data['Name'].unique()\n",
    "print(len(unique_names))\n",
    "unique_names"
   ]
  },
  {
   "cell_type": "markdown",
   "metadata": {},
   "source": [
    "How may rows are there?"
   ]
  },
  {
   "cell_type": "code",
   "execution_count": 11,
   "metadata": {
    "collapsed": false
   },
   "outputs": [
    {
     "data": {
      "text/plain": [
       "(131400, 6)"
      ]
     },
     "execution_count": 11,
     "metadata": {},
     "output_type": "execute_result"
    }
   ],
   "source": [
    "all_data.shape"
   ]
  },
  {
   "cell_type": "markdown",
   "metadata": {},
   "source": [
    "Check that number of rows = number of zones times 24 hours a day times 365 days a year:"
   ]
  },
  {
   "cell_type": "code",
   "execution_count": 12,
   "metadata": {
    "collapsed": false
   },
   "outputs": [
    {
     "data": {
      "text/plain": [
       "True"
      ]
     },
     "execution_count": 12,
     "metadata": {},
     "output_type": "execute_result"
    }
   ],
   "source": [
    "15*24*365 == all_data.shape[0]"
   ]
  },
  {
   "cell_type": "markdown",
   "metadata": {},
   "source": [
    "Select out the data of interest (specific zone):"
   ]
  },
  {
   "cell_type": "code",
   "execution_count": 13,
   "metadata": {
    "collapsed": true
   },
   "outputs": [],
   "source": [
    "all_data = all_data.loc[all_data['Name'].isin([zone_of_interest]),:]"
   ]
  },
  {
   "cell_type": "code",
   "execution_count": 14,
   "metadata": {
    "collapsed": false
   },
   "outputs": [
    {
     "data": {
      "text/plain": [
       "(8760, 6)"
      ]
     },
     "execution_count": 14,
     "metadata": {},
     "output_type": "execute_result"
    }
   ],
   "source": [
    "all_data.shape"
   ]
  },
  {
   "cell_type": "markdown",
   "metadata": {},
   "source": [
    "The DataFrame will be easier to use with a datetime index.\n",
    "Reset the index to the time stamp:"
   ]
  },
  {
   "cell_type": "code",
   "execution_count": 15,
   "metadata": {
    "collapsed": false
   },
   "outputs": [],
   "source": [
    "all_data = all_data.set_index(['Time Stamp'])"
   ]
  },
  {
   "cell_type": "markdown",
   "metadata": {},
   "source": [
    "Cast as datetime:"
   ]
  },
  {
   "cell_type": "code",
   "execution_count": 16,
   "metadata": {
    "collapsed": true
   },
   "outputs": [],
   "source": [
    "all_data.index = pd.to_datetime(all_data.index, format='%m/%d/%Y %H:%M')"
   ]
  },
  {
   "cell_type": "markdown",
   "metadata": {},
   "source": [
    "Make it time zone aware:"
   ]
  },
  {
   "cell_type": "code",
   "execution_count": 17,
   "metadata": {
    "collapsed": false
   },
   "outputs": [],
   "source": [
    "all_data.index = \\\n",
    "all_data.index.tz_localize('America/New_York', ambiguous='infer')"
   ]
  },
  {
   "cell_type": "markdown",
   "metadata": {},
   "source": [
    "Convert to Eastern Standard Time to get rid of daylight savings, so there are 24 hours in each day:"
   ]
  },
  {
   "cell_type": "code",
   "execution_count": 18,
   "metadata": {
    "collapsed": true
   },
   "outputs": [],
   "source": [
    "all_data.index = \\\n",
    "all_data.index.tz_convert('EST')"
   ]
  },
  {
   "cell_type": "markdown",
   "metadata": {},
   "source": [
    "Demonstrate selection of data for time range. Note this is the day when Daylight Savings Time ended in 2017, which is confirmed to have 24 hours here and not 25 like in the raw data."
   ]
  },
  {
   "cell_type": "code",
   "execution_count": 19,
   "metadata": {
    "collapsed": true
   },
   "outputs": [],
   "source": [
    "start_time = datetime.datetime(2017, 11, 4, 12, 0)\n",
    "end_time = datetime.datetime(2017, 11, 5, 11, 0)"
   ]
  },
  {
   "cell_type": "code",
   "execution_count": 20,
   "metadata": {
    "collapsed": false
   },
   "outputs": [
    {
     "data": {
      "text/html": [
       "<div>\n",
       "<style>\n",
       "    .dataframe thead tr:only-child th {\n",
       "        text-align: right;\n",
       "    }\n",
       "\n",
       "    .dataframe thead th {\n",
       "        text-align: left;\n",
       "    }\n",
       "\n",
       "    .dataframe tbody tr th {\n",
       "        vertical-align: top;\n",
       "    }\n",
       "</style>\n",
       "<table border=\"1\" class=\"dataframe\">\n",
       "  <thead>\n",
       "    <tr style=\"text-align: right;\">\n",
       "      <th></th>\n",
       "      <th>Name</th>\n",
       "      <th>PTID</th>\n",
       "      <th>LBMP ($/MWHr)</th>\n",
       "      <th>Marginal Cost Losses ($/MWHr)</th>\n",
       "      <th>Marginal Cost Congestion ($/MWHr)</th>\n",
       "    </tr>\n",
       "    <tr>\n",
       "      <th>Time Stamp</th>\n",
       "      <th></th>\n",
       "      <th></th>\n",
       "      <th></th>\n",
       "      <th></th>\n",
       "      <th></th>\n",
       "    </tr>\n",
       "  </thead>\n",
       "  <tbody>\n",
       "    <tr>\n",
       "      <th>2017-11-04 12:00:00-05:00</th>\n",
       "      <td>N.Y.C.</td>\n",
       "      <td>61761</td>\n",
       "      <td>19.28</td>\n",
       "      <td>2.17</td>\n",
       "      <td>0.00</td>\n",
       "    </tr>\n",
       "    <tr>\n",
       "      <th>2017-11-04 13:00:00-05:00</th>\n",
       "      <td>N.Y.C.</td>\n",
       "      <td>61761</td>\n",
       "      <td>18.97</td>\n",
       "      <td>2.12</td>\n",
       "      <td>0.00</td>\n",
       "    </tr>\n",
       "    <tr>\n",
       "      <th>2017-11-04 14:00:00-05:00</th>\n",
       "      <td>N.Y.C.</td>\n",
       "      <td>61761</td>\n",
       "      <td>18.97</td>\n",
       "      <td>2.16</td>\n",
       "      <td>-0.06</td>\n",
       "    </tr>\n",
       "    <tr>\n",
       "      <th>2017-11-04 15:00:00-05:00</th>\n",
       "      <td>N.Y.C.</td>\n",
       "      <td>61761</td>\n",
       "      <td>21.25</td>\n",
       "      <td>2.40</td>\n",
       "      <td>-0.07</td>\n",
       "    </tr>\n",
       "    <tr>\n",
       "      <th>2017-11-04 16:00:00-05:00</th>\n",
       "      <td>N.Y.C.</td>\n",
       "      <td>61761</td>\n",
       "      <td>23.66</td>\n",
       "      <td>2.56</td>\n",
       "      <td>-0.80</td>\n",
       "    </tr>\n",
       "    <tr>\n",
       "      <th>2017-11-04 17:00:00-05:00</th>\n",
       "      <td>N.Y.C.</td>\n",
       "      <td>61761</td>\n",
       "      <td>27.14</td>\n",
       "      <td>2.93</td>\n",
       "      <td>-1.32</td>\n",
       "    </tr>\n",
       "    <tr>\n",
       "      <th>2017-11-04 18:00:00-05:00</th>\n",
       "      <td>N.Y.C.</td>\n",
       "      <td>61761</td>\n",
       "      <td>23.88</td>\n",
       "      <td>2.63</td>\n",
       "      <td>-0.21</td>\n",
       "    </tr>\n",
       "    <tr>\n",
       "      <th>2017-11-04 19:00:00-05:00</th>\n",
       "      <td>N.Y.C.</td>\n",
       "      <td>61761</td>\n",
       "      <td>22.34</td>\n",
       "      <td>2.36</td>\n",
       "      <td>-1.41</td>\n",
       "    </tr>\n",
       "    <tr>\n",
       "      <th>2017-11-04 20:00:00-05:00</th>\n",
       "      <td>N.Y.C.</td>\n",
       "      <td>61761</td>\n",
       "      <td>21.28</td>\n",
       "      <td>1.95</td>\n",
       "      <td>-3.84</td>\n",
       "    </tr>\n",
       "    <tr>\n",
       "      <th>2017-11-04 21:00:00-05:00</th>\n",
       "      <td>N.Y.C.</td>\n",
       "      <td>61761</td>\n",
       "      <td>20.82</td>\n",
       "      <td>1.47</td>\n",
       "      <td>-7.23</td>\n",
       "    </tr>\n",
       "    <tr>\n",
       "      <th>2017-11-04 22:00:00-05:00</th>\n",
       "      <td>N.Y.C.</td>\n",
       "      <td>61761</td>\n",
       "      <td>14.36</td>\n",
       "      <td>1.06</td>\n",
       "      <td>-4.36</td>\n",
       "    </tr>\n",
       "    <tr>\n",
       "      <th>2017-11-04 23:00:00-05:00</th>\n",
       "      <td>N.Y.C.</td>\n",
       "      <td>61761</td>\n",
       "      <td>22.02</td>\n",
       "      <td>0.47</td>\n",
       "      <td>-17.31</td>\n",
       "    </tr>\n",
       "    <tr>\n",
       "      <th>2017-11-05 00:00:00-05:00</th>\n",
       "      <td>N.Y.C.</td>\n",
       "      <td>61761</td>\n",
       "      <td>19.38</td>\n",
       "      <td>0.45</td>\n",
       "      <td>-14.82</td>\n",
       "    </tr>\n",
       "    <tr>\n",
       "      <th>2017-11-05 01:00:00-05:00</th>\n",
       "      <td>N.Y.C.</td>\n",
       "      <td>61761</td>\n",
       "      <td>20.87</td>\n",
       "      <td>0.40</td>\n",
       "      <td>-16.69</td>\n",
       "    </tr>\n",
       "    <tr>\n",
       "      <th>2017-11-05 02:00:00-05:00</th>\n",
       "      <td>N.Y.C.</td>\n",
       "      <td>61761</td>\n",
       "      <td>20.43</td>\n",
       "      <td>0.34</td>\n",
       "      <td>-16.89</td>\n",
       "    </tr>\n",
       "    <tr>\n",
       "      <th>2017-11-05 03:00:00-05:00</th>\n",
       "      <td>N.Y.C.</td>\n",
       "      <td>61761</td>\n",
       "      <td>11.81</td>\n",
       "      <td>0.45</td>\n",
       "      <td>-7.35</td>\n",
       "    </tr>\n",
       "    <tr>\n",
       "      <th>2017-11-05 04:00:00-05:00</th>\n",
       "      <td>N.Y.C.</td>\n",
       "      <td>61761</td>\n",
       "      <td>13.13</td>\n",
       "      <td>0.43</td>\n",
       "      <td>-8.92</td>\n",
       "    </tr>\n",
       "    <tr>\n",
       "      <th>2017-11-05 05:00:00-05:00</th>\n",
       "      <td>N.Y.C.</td>\n",
       "      <td>61761</td>\n",
       "      <td>13.86</td>\n",
       "      <td>0.42</td>\n",
       "      <td>-9.75</td>\n",
       "    </tr>\n",
       "    <tr>\n",
       "      <th>2017-11-05 06:00:00-05:00</th>\n",
       "      <td>N.Y.C.</td>\n",
       "      <td>61761</td>\n",
       "      <td>14.03</td>\n",
       "      <td>0.59</td>\n",
       "      <td>-8.25</td>\n",
       "    </tr>\n",
       "    <tr>\n",
       "      <th>2017-11-05 07:00:00-05:00</th>\n",
       "      <td>N.Y.C.</td>\n",
       "      <td>61761</td>\n",
       "      <td>18.00</td>\n",
       "      <td>0.97</td>\n",
       "      <td>-8.65</td>\n",
       "    </tr>\n",
       "    <tr>\n",
       "      <th>2017-11-05 08:00:00-05:00</th>\n",
       "      <td>N.Y.C.</td>\n",
       "      <td>61761</td>\n",
       "      <td>20.94</td>\n",
       "      <td>1.20</td>\n",
       "      <td>-10.00</td>\n",
       "    </tr>\n",
       "    <tr>\n",
       "      <th>2017-11-05 09:00:00-05:00</th>\n",
       "      <td>N.Y.C.</td>\n",
       "      <td>61761</td>\n",
       "      <td>24.43</td>\n",
       "      <td>1.42</td>\n",
       "      <td>-11.29</td>\n",
       "    </tr>\n",
       "    <tr>\n",
       "      <th>2017-11-05 10:00:00-05:00</th>\n",
       "      <td>N.Y.C.</td>\n",
       "      <td>61761</td>\n",
       "      <td>25.55</td>\n",
       "      <td>1.42</td>\n",
       "      <td>-12.30</td>\n",
       "    </tr>\n",
       "    <tr>\n",
       "      <th>2017-11-05 11:00:00-05:00</th>\n",
       "      <td>N.Y.C.</td>\n",
       "      <td>61761</td>\n",
       "      <td>23.74</td>\n",
       "      <td>1.51</td>\n",
       "      <td>-9.59</td>\n",
       "    </tr>\n",
       "  </tbody>\n",
       "</table>\n",
       "</div>"
      ],
      "text/plain": [
       "                             Name   PTID  LBMP ($/MWHr)  \\\n",
       "Time Stamp                                                \n",
       "2017-11-04 12:00:00-05:00  N.Y.C.  61761          19.28   \n",
       "2017-11-04 13:00:00-05:00  N.Y.C.  61761          18.97   \n",
       "2017-11-04 14:00:00-05:00  N.Y.C.  61761          18.97   \n",
       "2017-11-04 15:00:00-05:00  N.Y.C.  61761          21.25   \n",
       "2017-11-04 16:00:00-05:00  N.Y.C.  61761          23.66   \n",
       "2017-11-04 17:00:00-05:00  N.Y.C.  61761          27.14   \n",
       "2017-11-04 18:00:00-05:00  N.Y.C.  61761          23.88   \n",
       "2017-11-04 19:00:00-05:00  N.Y.C.  61761          22.34   \n",
       "2017-11-04 20:00:00-05:00  N.Y.C.  61761          21.28   \n",
       "2017-11-04 21:00:00-05:00  N.Y.C.  61761          20.82   \n",
       "2017-11-04 22:00:00-05:00  N.Y.C.  61761          14.36   \n",
       "2017-11-04 23:00:00-05:00  N.Y.C.  61761          22.02   \n",
       "2017-11-05 00:00:00-05:00  N.Y.C.  61761          19.38   \n",
       "2017-11-05 01:00:00-05:00  N.Y.C.  61761          20.87   \n",
       "2017-11-05 02:00:00-05:00  N.Y.C.  61761          20.43   \n",
       "2017-11-05 03:00:00-05:00  N.Y.C.  61761          11.81   \n",
       "2017-11-05 04:00:00-05:00  N.Y.C.  61761          13.13   \n",
       "2017-11-05 05:00:00-05:00  N.Y.C.  61761          13.86   \n",
       "2017-11-05 06:00:00-05:00  N.Y.C.  61761          14.03   \n",
       "2017-11-05 07:00:00-05:00  N.Y.C.  61761          18.00   \n",
       "2017-11-05 08:00:00-05:00  N.Y.C.  61761          20.94   \n",
       "2017-11-05 09:00:00-05:00  N.Y.C.  61761          24.43   \n",
       "2017-11-05 10:00:00-05:00  N.Y.C.  61761          25.55   \n",
       "2017-11-05 11:00:00-05:00  N.Y.C.  61761          23.74   \n",
       "\n",
       "                           Marginal Cost Losses ($/MWHr)  \\\n",
       "Time Stamp                                                 \n",
       "2017-11-04 12:00:00-05:00                           2.17   \n",
       "2017-11-04 13:00:00-05:00                           2.12   \n",
       "2017-11-04 14:00:00-05:00                           2.16   \n",
       "2017-11-04 15:00:00-05:00                           2.40   \n",
       "2017-11-04 16:00:00-05:00                           2.56   \n",
       "2017-11-04 17:00:00-05:00                           2.93   \n",
       "2017-11-04 18:00:00-05:00                           2.63   \n",
       "2017-11-04 19:00:00-05:00                           2.36   \n",
       "2017-11-04 20:00:00-05:00                           1.95   \n",
       "2017-11-04 21:00:00-05:00                           1.47   \n",
       "2017-11-04 22:00:00-05:00                           1.06   \n",
       "2017-11-04 23:00:00-05:00                           0.47   \n",
       "2017-11-05 00:00:00-05:00                           0.45   \n",
       "2017-11-05 01:00:00-05:00                           0.40   \n",
       "2017-11-05 02:00:00-05:00                           0.34   \n",
       "2017-11-05 03:00:00-05:00                           0.45   \n",
       "2017-11-05 04:00:00-05:00                           0.43   \n",
       "2017-11-05 05:00:00-05:00                           0.42   \n",
       "2017-11-05 06:00:00-05:00                           0.59   \n",
       "2017-11-05 07:00:00-05:00                           0.97   \n",
       "2017-11-05 08:00:00-05:00                           1.20   \n",
       "2017-11-05 09:00:00-05:00                           1.42   \n",
       "2017-11-05 10:00:00-05:00                           1.42   \n",
       "2017-11-05 11:00:00-05:00                           1.51   \n",
       "\n",
       "                           Marginal Cost Congestion ($/MWHr)  \n",
       "Time Stamp                                                    \n",
       "2017-11-04 12:00:00-05:00                               0.00  \n",
       "2017-11-04 13:00:00-05:00                               0.00  \n",
       "2017-11-04 14:00:00-05:00                              -0.06  \n",
       "2017-11-04 15:00:00-05:00                              -0.07  \n",
       "2017-11-04 16:00:00-05:00                              -0.80  \n",
       "2017-11-04 17:00:00-05:00                              -1.32  \n",
       "2017-11-04 18:00:00-05:00                              -0.21  \n",
       "2017-11-04 19:00:00-05:00                              -1.41  \n",
       "2017-11-04 20:00:00-05:00                              -3.84  \n",
       "2017-11-04 21:00:00-05:00                              -7.23  \n",
       "2017-11-04 22:00:00-05:00                              -4.36  \n",
       "2017-11-04 23:00:00-05:00                             -17.31  \n",
       "2017-11-05 00:00:00-05:00                             -14.82  \n",
       "2017-11-05 01:00:00-05:00                             -16.69  \n",
       "2017-11-05 02:00:00-05:00                             -16.89  \n",
       "2017-11-05 03:00:00-05:00                              -7.35  \n",
       "2017-11-05 04:00:00-05:00                              -8.92  \n",
       "2017-11-05 05:00:00-05:00                              -9.75  \n",
       "2017-11-05 06:00:00-05:00                              -8.25  \n",
       "2017-11-05 07:00:00-05:00                              -8.65  \n",
       "2017-11-05 08:00:00-05:00                             -10.00  \n",
       "2017-11-05 09:00:00-05:00                             -11.29  \n",
       "2017-11-05 10:00:00-05:00                             -12.30  \n",
       "2017-11-05 11:00:00-05:00                              -9.59  "
      ]
     },
     "execution_count": 20,
     "metadata": {},
     "output_type": "execute_result"
    }
   ],
   "source": [
    "test = all_data[start_time:end_time]\n",
    "test"
   ]
  },
  {
   "cell_type": "code",
   "execution_count": 21,
   "metadata": {
    "collapsed": false
   },
   "outputs": [
    {
     "data": {
      "text/plain": [
       "(24, 5)"
      ]
     },
     "execution_count": 21,
     "metadata": {},
     "output_type": "execute_result"
    }
   ],
   "source": [
    "#Should be 24 rows (hours in this day)\n",
    "test.shape"
   ]
  },
  {
   "cell_type": "markdown",
   "metadata": {},
   "source": [
    "Show how prices can be selected as a numpy array:"
   ]
  },
  {
   "cell_type": "code",
   "execution_count": 22,
   "metadata": {
    "collapsed": false
   },
   "outputs": [
    {
     "data": {
      "text/plain": [
       "array([ 19.28,  18.97,  18.97,  21.25,  23.66,  27.14,  23.88,  22.34,\n",
       "        21.28,  20.82,  14.36,  22.02,  19.38,  20.87,  20.43,  11.81,\n",
       "        13.13,  13.86,  14.03,  18.  ,  20.94,  24.43,  25.55,  23.74])"
      ]
     },
     "execution_count": 22,
     "metadata": {},
     "output_type": "execute_result"
    }
   ],
   "source": [
    "all_data[start_time:end_time]['LBMP ($/MWHr)'].values"
   ]
  },
  {
   "cell_type": "markdown",
   "metadata": {},
   "source": [
    "# Set up and solve the optimization problem\n",
    "\n",
    "Define a function, 'smart_battery_model', that simulates the operation of the battery for energy arbitrage. The first input is the initial level of charge of the battery.\n",
    "\n",
    "Business requirements indicate a modeling tool that takes several other inputs. These are the rest of the function inputs:\n",
    "\n",
    "- Hourly LBMP ($/MWh) (contained in dataframe 'price_data')\n",
    "- Max discharge power capacity (kW)\n",
    "- Max charge power capacity (kW)\n",
    "- Discharge energy capacity (kWh)\n",
    "- AC-AC Round-trip efficiency (%)\n",
    "- Maximum daily discharged throughput (kWh)\n",
    "\n",
    "The function returns several outputs that can be used to examine system operation and meet requirements for the modeling tool:\n",
    "\n",
    "- Charging and discharging activity, and state of energy, at an hourly time step\n",
    "- Discharged throughput at a daily time step"
   ]
  },
  {
   "cell_type": "code",
   "execution_count": 23,
   "metadata": {
    "collapsed": false
   },
   "outputs": [],
   "source": [
    "def smart_battery_model(initial_level, price_data, max_discharge_power_capacity, \\\n",
    "                        max_charge_power_capacity, discharge_energy_capacity,\n",
    "                        efficiency, max_daily_discharged_throughput):\n",
    "    #Track simulation time\n",
    "    tic = time.time()\n",
    "    \n",
    "    #Initialize output variables\n",
    "    all_hourly_charges = np.empty(0)\n",
    "    all_hourly_discharges = np.empty(0)\n",
    "    all_hourly_state_of_energy = np.empty(0)\n",
    "    all_daily_discharge_throughput = np.empty(0)\n",
    "    \n",
    "    #Set up decision variables for optimization\n",
    "    #These are the hourly charge and discharge flows for the optimization horizon,\n",
    "    #with their limitations.\n",
    "    #\"The battery storage’s State of Energy SHALL be continuous between optimization time\n",
    "    #horizon boundaries\": note 'Continuous' decision variables\n",
    "    charge = pulp.LpVariable.dicts(\"charging_power\",\n",
    "                                     ('c_t_' + str(i) for i in range(0,36)),\n",
    "                                     lowBound=0, upBound=max_charge_power_capacity,\n",
    "                                     cat='Continuous')\n",
    "    discharge = pulp.LpVariable.dicts(\"discharging_power\",\n",
    "                                     ('d_t_' + str(i) for i in range(0,36)),\n",
    "                                     lowBound=0, upBound=max_discharge_power_capacity,\n",
    "                                     cat='Continuous')\n",
    "    \n",
    "    #364 24-hour periods (noon to noon) in simulation\n",
    "    for day_count in range(0,364):\n",
    "        \n",
    "        #Step through the days, with 36 hour optimization horizon\n",
    "        start_time = datetime.datetime(2017, 1, 1, 12, 0) \\\n",
    "        + datetime.timedelta(day_count)\n",
    "        end_time = datetime.datetime(2017, 1, 2, 23, 0) \\\n",
    "        + datetime.timedelta(day_count)\n",
    "        #print(start_time, end_time)\n",
    "    \n",
    "        #Retrieve the price data that will be used to calculate the objective\n",
    "        prices = \\\n",
    "        price_data[start_time:end_time]['LBMP ($/MWHr)'].values\n",
    "        \n",
    "        #Catch if there are not 36 hours in a time window\n",
    "        if len(prices) != 36:\n",
    "            print(prices)\n",
    "            print(start_time)\n",
    "    \n",
    "        #Instantiate linear programming model to maximize the objective\n",
    "        model = pulp.LpProblem(\"Energy arbitrage\", pulp.LpMaximize)\n",
    "    \n",
    "        #Objective is profit\n",
    "        #This formula gives the daily profit from charging/discharging activities.\n",
    "        #Charging is a cost, discharging is a revenue\n",
    "        model += pulp.LpAffineExpression([(charge['c_t_' + str(i)],\n",
    "                                                 -1*prices[i]) for i in range(0,36)]) +\\\n",
    "        pulp.LpAffineExpression([(discharge['d_t_' + str(i)],\n",
    "                                                 prices[i]) for i in range(0,36)])\n",
    "        \n",
    "        #Storage level constraint 1\n",
    "        #\"The battery storage system has 100% depth of discharge capabilities\"\n",
    "        #This says the battery cannot have less than zero energy, at\n",
    "        #any hour in the horizon\n",
    "        #Note this is a place where round-trip efficiency is factored in.\n",
    "        #The energy available for discharge is the round-trip efficiency\n",
    "        #times the energy that was charged.\n",
    "        min_capacity = 0\n",
    "        \n",
    "        for hour_of_day in range(1,37):\n",
    "            model += \\\n",
    "                initial_level \\\n",
    "                + pulp.LpAffineExpression(\n",
    "                    [(charge['c_t_' + str(i)], efficiency) for i in range(0,hour_of_day)]) \\\n",
    "                - pulp.lpSum(\n",
    "                    discharge[index] for index in ('d_t_' + str(i)\n",
    "                                                   for i in range(0,hour_of_day)))\\\n",
    "                >= min_capacity\n",
    "            \n",
    "        #Storage level constraint 2\n",
    "        #Similar to 1\n",
    "        #This says the battery cannot have more than the discharge energy capacity\n",
    "        for hour_of_day in range(1,37):\n",
    "            model += \\\n",
    "                initial_level \\\n",
    "                + pulp.LpAffineExpression(\n",
    "                    [(charge['c_t_' + str(i)], efficiency) for i in range(0,hour_of_day)]) \\\n",
    "                - pulp.lpSum(\n",
    "                    discharge[index] for index in ('d_t_' + str(i)\n",
    "                                                   for i in range(0,hour_of_day)))\\\n",
    "                <= discharge_energy_capacity\n",
    "            \n",
    "        #Maximum discharge throughput constraint\n",
    "        #The sum of all discharge flow within a day cannot exceed this\n",
    "        #Half of the next day is included due to 36 hour horizon\n",
    "        model += \\\n",
    "            pulp.lpSum(\n",
    "                discharge[index] for index in ('d_t_' + str(i) for i in range(0,24))) \\\n",
    "            <= max_daily_discharged_throughput\n",
    "        \n",
    "        model += \\\n",
    "            pulp.lpSum(\n",
    "                discharge[index] for index in ('d_t_' + str(i) for i in range(25,36))) \\\n",
    "            <= max_daily_discharged_throughput*0.5\n",
    "            \n",
    "        #Solve the optimization problem\n",
    "        model.solve()\n",
    "        \n",
    "        #Show a warning if an optimal solution was not found\n",
    "        if pulp.LpStatus[model.status] != 'Optimal':\n",
    "            print('Warning: ' + pulp.LpStatus[model.status])\n",
    "        \n",
    "        ## Collect output\n",
    "        #Collect hourly charging and discharging rates within the next 24 hours\n",
    "        hourly_charges =\\\n",
    "            np.array(\n",
    "                [charge[index].varValue for\n",
    "                 index in ('c_t_' + str(i) for i in range(0,24))])\n",
    "        hourly_discharges =\\\n",
    "            np.array(\n",
    "                [discharge[index].varValue for\n",
    "                 index in ('d_t_' + str(i) for i in range(0,24))])\n",
    "        #Collect daily discharge throughput\n",
    "        daily_discharge_throughput = sum(hourly_discharges)\n",
    "        #Calculate net hourly power flow (kW), needed for state of energy.\n",
    "        #Charging needs to factor in efficiency, as not all charged power is \n",
    "        #available for discharge.\n",
    "        net_hourly_activity = (hourly_charges*efficiency) - hourly_discharges\n",
    "        #Cumulative changes in energy over time (kWh) from some baseline\n",
    "        cumulative_hourly_activity = np.cumsum(net_hourly_activity)\n",
    "        #Add the baseline for hourly state of energy\n",
    "        state_of_energy_from_t2 = initial_level + cumulative_hourly_activity\n",
    "        \n",
    "        #Initial level for next period is the end point of current period\n",
    "        initial_level = state_of_energy_from_t2[-1]\n",
    "        \n",
    "        #Append output\n",
    "        all_hourly_charges = np.append(all_hourly_charges, hourly_charges)\n",
    "        all_hourly_discharges = np.append(all_hourly_discharges, hourly_discharges)\n",
    "        all_hourly_state_of_energy = \\\n",
    "        np.append(all_hourly_state_of_energy, state_of_energy_from_t2)\n",
    "        all_daily_discharge_throughput = \\\n",
    "        np.append(all_daily_discharge_throughput, daily_discharge_throughput)\n",
    "\n",
    "    toc = time.time()\n",
    "        \n",
    "    print('Total simulation time: ' + str(toc-tic) + ' seconds')\n",
    "\n",
    "    return all_hourly_charges, all_hourly_discharges, all_hourly_state_of_energy,\\\n",
    "        all_daily_discharge_throughput"
   ]
  },
  {
   "cell_type": "markdown",
   "metadata": {},
   "source": [
    "Run the simulation"
   ]
  },
  {
   "cell_type": "code",
   "execution_count": 24,
   "metadata": {
    "collapsed": false,
    "scrolled": true
   },
   "outputs": [
    {
     "name": "stdout",
     "output_type": "stream",
     "text": [
      "Total simulation time: 28.4918179512 seconds\n"
     ]
    }
   ],
   "source": [
    "all_hourly_charges, all_hourly_discharges, all_hourly_state_of_energy,\\\n",
    "        all_daily_discharge_throughput = \\\n",
    "    smart_battery_model(initial_level, all_data, max_discharge_power_capacity,\n",
    "                        max_charge_power_capacity, discharge_energy_capacity,\n",
    "                        efficiency, max_daily_discharged_throughput)"
   ]
  },
  {
   "cell_type": "markdown",
   "metadata": {},
   "source": [
    "Sanity check: the number of simulated hours should be:"
   ]
  },
  {
   "cell_type": "code",
   "execution_count": 25,
   "metadata": {
    "collapsed": false
   },
   "outputs": [
    {
     "data": {
      "text/plain": [
       "True"
      ]
     },
     "execution_count": 25,
     "metadata": {},
     "output_type": "execute_result"
    }
   ],
   "source": [
    "24*364 == len(all_hourly_discharges)"
   ]
  },
  {
   "cell_type": "markdown",
   "metadata": {},
   "source": [
    "# Examine outputs\n",
    "The modeling tool requirements include outputs of hourly\n",
    "- Power output (kW)\n",
    "- State of Energy (kWh)\n",
    "\n",
    "Here they are graphed, and later attached to a DataFrame if further analysis is needed."
   ]
  },
  {
   "cell_type": "markdown",
   "metadata": {},
   "source": [
    "## Power output\n",
    "Define power output with discharging as positive and charging as negative."
   ]
  },
  {
   "cell_type": "code",
   "execution_count": 26,
   "metadata": {
    "collapsed": true
   },
   "outputs": [],
   "source": [
    "mpl.rcParams[\"figure.figsize\"] = [5,3]\n",
    "mpl.rcParams[\"figure.dpi\"] = 100\n",
    "mpl.rcParams.update({\"font.size\":12})"
   ]
  },
  {
   "cell_type": "code",
   "execution_count": 27,
   "metadata": {
    "collapsed": false
   },
   "outputs": [
    {
     "data": {
      "text/plain": [
       "<matplotlib.text.Text at 0x10d2e80d0>"
      ]
     },
     "execution_count": 27,
     "metadata": {},
     "output_type": "execute_result"
    },
    {
     "data": {
      "image/png": "[encoded data removed]",
      "text/plain": [
       "<matplotlib.figure.Figure at 0x115a43710>"
      ]
     },
     "metadata": {},
     "output_type": "display_data"
    }
   ],
   "source": [
    "plt.hist(all_hourly_discharges - all_hourly_charges)\n",
    "plt.xlabel('kW')\n",
    "plt.title('Hourly power output')"
   ]
  },
  {
   "cell_type": "markdown",
   "metadata": {},
   "source": [
    "This indicates that for most hours over the year, the power is close to zero. However it is also common for the battery to be operating at the limits of its range [-100, 100] kW."
   ]
  },
  {
   "cell_type": "markdown",
   "metadata": {},
   "source": [
    "## State of energy\n",
    "The battery state of energy should be no less than zero, and no greater than the dicharge energy capcacity, at any time: [0, 200] kWh."
   ]
  },
  {
   "cell_type": "code",
   "execution_count": 28,
   "metadata": {
    "collapsed": false
   },
   "outputs": [
    {
     "data": {
      "text/plain": [
       "<matplotlib.text.Text at 0x10d342450>"
      ]
     },
     "execution_count": 28,
     "metadata": {},
     "output_type": "execute_result"
    },
    {
     "data": {
      "image/png": "[encoded data removed]",
      "text/plain": [
       "<matplotlib.figure.Figure at 0x10d2db750>"
      ]
     },
     "metadata": {},
     "output_type": "display_data"
    }
   ],
   "source": [
    "plt.hist(all_hourly_state_of_energy)\n",
    "plt.xlabel('kWh')\n",
    "plt.title('Hourly state of energy')"
   ]
  },
  {
   "cell_type": "markdown",
   "metadata": {},
   "source": [
    "Results indicate the battery is operating within the prescribed limits of state of energy."
   ]
  },
  {
   "cell_type": "markdown",
   "metadata": {},
   "source": [
    "For the rest of the requirements,\n",
    "- Total annual revenue generation (\\$)\n",
    "- Total annual charging cost (\\$)\n",
    "- Total annual discharged throughput (kWh)\n",
    "\n",
    "it is convenient to put the data in a DataFrame"
   ]
  },
  {
   "cell_type": "markdown",
   "metadata": {},
   "source": [
    "Select out a new dataframe based on the time frame of simulation, to report further results:"
   ]
  },
  {
   "cell_type": "code",
   "execution_count": 29,
   "metadata": {
    "collapsed": true
   },
   "outputs": [],
   "source": [
    "all_data_sim_time = all_data[datetime.datetime(2017, 1, 1, 12, 0):\n",
    "                   datetime.datetime(2017, 12, 31, 11, 0)].copy()"
   ]
  },
  {
   "cell_type": "markdown",
   "metadata": {},
   "source": [
    "Check there is the right number of rows:"
   ]
  },
  {
   "cell_type": "code",
   "execution_count": 30,
   "metadata": {
    "collapsed": false
   },
   "outputs": [
    {
     "data": {
      "text/plain": [
       "(8736, 5)"
      ]
     },
     "execution_count": 30,
     "metadata": {},
     "output_type": "execute_result"
    }
   ],
   "source": [
    "all_data_sim_time.shape"
   ]
  },
  {
   "cell_type": "code",
   "execution_count": 31,
   "metadata": {
    "collapsed": false
   },
   "outputs": [
    {
     "data": {
      "text/plain": [
       "True"
      ]
     },
     "execution_count": 31,
     "metadata": {},
     "output_type": "execute_result"
    }
   ],
   "source": [
    "all_data_sim_time.shape[0] == len(all_hourly_discharges)"
   ]
  },
  {
   "cell_type": "markdown",
   "metadata": {},
   "source": [
    "Attach simulation results"
   ]
  },
  {
   "cell_type": "code",
   "execution_count": 32,
   "metadata": {
    "collapsed": true
   },
   "outputs": [],
   "source": [
    "#These indicate flows during the hour of the datetime index\n",
    "all_data_sim_time['Charging power (kW)'] = all_hourly_charges\n",
    "all_data_sim_time['Discharging power (kW)'] = all_hourly_discharges\n",
    "all_data_sim_time['Power output (kW)'] = all_hourly_discharges - all_hourly_charges\n",
    "#This is the state of power at the beginning of the hour of the datetime index \n",
    "all_data_sim_time['State of Energy (kWh)'] = np.append(initial_level, \n",
    "                                                       all_hourly_state_of_energy[0:-1])"
   ]
  },
  {
   "cell_type": "markdown",
   "metadata": {},
   "source": [
    "Revenue and cost would be in units of\n",
    "$\\frac{\\text{kW} \\cdot \\text{\\$} \\cdot \\text{h}}{\\text{MWh}} = 1000 \\cdot \\$$ , so divide by 1000 to adjust to $:"
   ]
  },
  {
   "cell_type": "code",
   "execution_count": 33,
   "metadata": {
    "collapsed": true
   },
   "outputs": [],
   "source": [
    "all_data_sim_time['Revenue generation ($)'] = \\\n",
    "all_data_sim_time['Discharging power (kW)'] * all_data_sim_time['LBMP ($/MWHr)'] / 1000"
   ]
  },
  {
   "cell_type": "code",
   "execution_count": 34,
   "metadata": {
    "collapsed": true
   },
   "outputs": [],
   "source": [
    "all_data_sim_time['Charging cost ($)'] = \\\n",
    "all_data_sim_time['Charging power (kW)'] * all_data_sim_time['LBMP ($/MWHr)'] / 1000"
   ]
  },
  {
   "cell_type": "code",
   "execution_count": 35,
   "metadata": {
    "collapsed": true
   },
   "outputs": [],
   "source": [
    "all_data_sim_time['Profit ($)'] = all_data_sim_time['Revenue generation ($)'] - \\\n",
    "all_data_sim_time['Charging cost ($)']"
   ]
  },
  {
   "cell_type": "markdown",
   "metadata": {},
   "source": [
    "## Revenue, cost, and profit\n",
    "What is the total annual revenue generation?"
   ]
  },
  {
   "cell_type": "code",
   "execution_count": 36,
   "metadata": {
    "collapsed": false
   },
   "outputs": [
    {
     "data": {
      "text/plain": [
       "3367.7464993572917"
      ]
     },
     "execution_count": 36,
     "metadata": {},
     "output_type": "execute_result"
    }
   ],
   "source": [
    "all_data_sim_time['Revenue generation ($)'].sum()"
   ]
  },
  {
   "cell_type": "markdown",
   "metadata": {},
   "source": [
    "Total annual charging cost?"
   ]
  },
  {
   "cell_type": "code",
   "execution_count": 37,
   "metadata": {
    "collapsed": false
   },
   "outputs": [
    {
     "data": {
      "text/plain": [
       "1824.087824055044"
      ]
     },
     "execution_count": 37,
     "metadata": {},
     "output_type": "execute_result"
    }
   ],
   "source": [
    "all_data_sim_time['Charging cost ($)'].sum()"
   ]
  },
  {
   "cell_type": "markdown",
   "metadata": {},
   "source": [
    "Calculate profit"
   ]
  },
  {
   "cell_type": "code",
   "execution_count": 38,
   "metadata": {
    "collapsed": false
   },
   "outputs": [
    {
     "data": {
      "text/plain": [
       "1543.6586753022518"
      ]
     },
     "execution_count": 38,
     "metadata": {},
     "output_type": "execute_result"
    }
   ],
   "source": [
    "all_data_sim_time['Profit ($)'].sum()"
   ]
  },
  {
   "cell_type": "markdown",
   "metadata": {},
   "source": [
    "The total annual revenue was \\$3,368, cost was \\$1,824, and profit was \\$1,544."
   ]
  },
  {
   "cell_type": "markdown",
   "metadata": {},
   "source": [
    "## Total annual discharged throughput\n",
    "\n",
    "Total annual discharged throughput (kWh) is a requirement of the modeling tool.\n",
    "\n",
    "What is the sum of daily discharged throughput? This is limited to 200 kWh/day. If the battery discharged its maximum possible energy every day during the 364 day simulation, the total discharge would be:"
   ]
  },
  {
   "cell_type": "code",
   "execution_count": 39,
   "metadata": {
    "collapsed": false
   },
   "outputs": [
    {
     "data": {
      "text/plain": [
       "72800"
      ]
     },
     "execution_count": 39,
     "metadata": {},
     "output_type": "execute_result"
    }
   ],
   "source": [
    "364*200\n",
    "#kWh"
   ]
  },
  {
   "cell_type": "markdown",
   "metadata": {},
   "source": [
    "And in fact it is:"
   ]
  },
  {
   "cell_type": "code",
   "execution_count": 40,
   "metadata": {
    "collapsed": false
   },
   "outputs": [
    {
     "data": {
      "text/plain": [
       "72799.999992000216"
      ]
     },
     "execution_count": 40,
     "metadata": {},
     "output_type": "execute_result"
    }
   ],
   "source": [
    "sum(all_daily_discharge_throughput)"
   ]
  },
  {
   "cell_type": "markdown",
   "metadata": {},
   "source": [
    "This implies the system is hitting the maximum discharged throughput limit every day, as confirmed by a histogram:"
   ]
  },
  {
   "cell_type": "code",
   "execution_count": 41,
   "metadata": {
    "collapsed": false
   },
   "outputs": [
    {
     "data": {
      "text/plain": [
       "<matplotlib.text.Text at 0x1169723d0>"
      ]
     },
     "execution_count": 41,
     "metadata": {},
     "output_type": "execute_result"
    },
    {
     "data": {
      "image/png": "[encoded data removed]",
      "text/plain": [
       "<matplotlib.figure.Figure at 0x115be03d0>"
      ]
     },
     "metadata": {},
     "output_type": "display_data"
    }
   ],
   "source": [
    "plt.hist(np.round(all_daily_discharge_throughput))\n",
    "plt.xlim([199, 201])\n",
    "plt.xlabel('kWh')\n",
    "plt.title('Daily discharged throughput')"
   ]
  },
  {
   "cell_type": "markdown",
   "metadata": {},
   "source": [
    "## Find the most profitable week\n",
    "Group the profit column by week and locate the maximum"
   ]
  },
  {
   "cell_type": "code",
   "execution_count": 42,
   "metadata": {
    "collapsed": false
   },
   "outputs": [],
   "source": [
    "max_profit_week = (all_data_sim_time['Profit ($)'].resample('W').sum() == \\\n",
    "all_data_sim_time['Profit ($)'].resample('W').sum().max()).values"
   ]
  },
  {
   "cell_type": "code",
   "execution_count": 43,
   "metadata": {
    "collapsed": false
   },
   "outputs": [
    {
     "data": {
      "text/plain": [
       "Time Stamp\n",
       "2017-12-31 00:00:00-05:00    56.527353\n",
       "Freq: W-SUN, Name: Profit ($), dtype: float64"
      ]
     },
     "execution_count": 43,
     "metadata": {},
     "output_type": "execute_result"
    }
   ],
   "source": [
    "all_data_sim_time['Profit ($)'].resample('W').sum()[max_profit_week]"
   ]
  },
  {
   "cell_type": "markdown",
   "metadata": {},
   "source": [
    "The week ending on New Year's Eve, 2017, was the most profitable. For this week, make a graph of hourly battery dispatch and hourly LBMP."
   ]
  },
  {
   "cell_type": "code",
   "execution_count": 44,
   "metadata": {
    "collapsed": false
   },
   "outputs": [],
   "source": [
    "mpl.rcParams[\"figure.figsize\"] = [8,6]\n",
    "mpl.rcParams[\"figure.dpi\"] = 150\n",
    "mpl.rcParams.update({\"font.size\":14})"
   ]
  },
  {
   "cell_type": "code",
   "execution_count": 45,
   "metadata": {
    "collapsed": false
   },
   "outputs": [
    {
     "data": {
      "image/png": "[encoded data removed]",
      "text/plain": [
       "<matplotlib.figure.Figure at 0x11694a7d0>"
      ]
     },
     "metadata": {},
     "output_type": "display_data"
    }
   ],
   "source": [
    "ax = all_data_sim_time['2017-12-24 00:00':'2017-12-31 00:00']\\\n",
    "[['State of Energy (kWh)', 'LBMP ($/MWHr)']]\\\n",
    ".plot(secondary_y='LBMP ($/MWHr)', mark_right=False)\n",
    "\n",
    "ax.set_ylabel('State of energy (kWh)')\n",
    "ax.right_ax.set_ylabel('LBMP ($/MWh)')\n",
    "ax.get_legend().set_bbox_to_anchor((0.3, 1))"
   ]
  },
  {
   "cell_type": "markdown",
   "metadata": {},
   "source": [
    "The battery appears to follow the general arbitrage srategy of \"buy low, sell high\", to take advantage of future price changes."
   ]
  },
  {
   "cell_type": "markdown",
   "metadata": {},
   "source": [
    "## Monthly profit"
   ]
  },
  {
   "cell_type": "code",
   "execution_count": 46,
   "metadata": {
    "collapsed": true
   },
   "outputs": [],
   "source": [
    "mpl.rcParams[\"figure.figsize\"] = [6,4]\n",
    "mpl.rcParams[\"figure.dpi\"] = 100\n",
    "mpl.rcParams.update({\"font.size\":12})"
   ]
  },
  {
   "cell_type": "code",
   "execution_count": 47,
   "metadata": {
    "collapsed": false
   },
   "outputs": [
    {
     "data": {
      "text/plain": [
       "<matplotlib.text.Text at 0x1171d4290>"
      ]
     },
     "execution_count": 47,
     "metadata": {},
     "output_type": "execute_result"
    },
    {
     "data": {
      "image/png": "[encoded data removed]",
      "text/plain": [
       "<matplotlib.figure.Figure at 0x116d69bd0>"
      ]
     },
     "metadata": {},
     "output_type": "display_data"
    }
   ],
   "source": [
    "monthly_resample = all_data_sim_time['Profit ($)'].resample('M').sum().reset_index()\n",
    "x = monthly_resample.index\n",
    "y = monthly_resample['Profit ($)']\n",
    "plt.plot(x,y)\n",
    "plt.xticks(list(range(0,12)), ['J', 'F', 'M', 'A', 'M', 'J', 'J', 'A', 'S', 'O', 'N', 'D'])\n",
    "plt.xlabel('Month')\n",
    "plt.ylabel('Profit ($)')"
   ]
  },
  {
   "cell_type": "markdown",
   "metadata": {},
   "source": [
    "Profit is mostly higher in the summer than winter, but is also high in January and December. A plot of the LBMP throughout the year sheds some light on this:"
   ]
  },
  {
   "cell_type": "code",
   "execution_count": 48,
   "metadata": {
    "collapsed": false
   },
   "outputs": [
    {
     "data": {
      "text/plain": [
       "<matplotlib.text.Text at 0x117219bd0>"
      ]
     },
     "execution_count": 48,
     "metadata": {},
     "output_type": "execute_result"
    },
    {
     "data": {
      "image/png": "[encoded data removed]",
      "text/plain": [
       "<matplotlib.figure.Figure at 0x11719fb50>"
      ]
     },
     "metadata": {},
     "output_type": "display_data"
    }
   ],
   "source": [
    "all_data_sim_time['LBMP ($/MWHr)'].plot()\n",
    "plt.ylabel('LBMP ($/MWHr)')"
   ]
  },
  {
   "cell_type": "markdown",
   "metadata": {},
   "source": [
    "Changes in price enable the arbitrage strategy to make profit. Generally, most of the larger price swings are during the summer months, probably reflecting increased demand due to air conditioning usage on hot summer days. But there are large price changes during mid-Januray, as well as late December. This may be due to tourism to New York City to celebrate the New Year, or cold weather that increases demand for electricity for heating."
   ]
  },
  {
   "cell_type": "markdown",
   "metadata": {},
   "source": [
    "# Conclusions\n",
    "\n",
    "I find that an energy arbitrage strategy for a grid-connected battery, operating under the given parameters, can generate an annual total of $1,544 profit based on publicly available price data from 2017.\n",
    "\n",
    "Further optimization for increased profit may be possible, if prices are able to be accurately predicted beyond the 36 hour optimization horizon used here. The NYISO price determination involves a load forecasting model, that depends on economic and weather factors. It may be possible to include such factors in a price forecasting model to estimate future day-ahead market prices that are not yet public.\n",
    "\n",
    "Wang and Zhang (2018) review recent research on this topic, and show that reinforcement learning using historical price data can lead to higher profits than maximizing instantaneous profit, suggesting other possible approaches to maximizing profit from energy arbitrage."
   ]
  },
  {
   "cell_type": "markdown",
   "metadata": {},
   "source": [
    "# Milestones\n",
    "\n",
    "Key milestones while I completed this project included:\n",
    "- Finding the helpful references below about energy arbitrage with a grid-connected battery\n",
    "- Locating the NYISO day-ahead scheduling manual online, and a training deck about LBMPs from the PJM\n",
    "- Finding a helpful online tutorial for solving linear programming problems in Python with PuLP: http://benalexkeen.com/linear-programming-with-python-and-pulp-part-5/\n",
    "- Clarifying my assumptions with Savannah\n",
    "- Realizing I needed to constrain energy storage at every hour of the simulation, not just the end of each day, after diagnosing the issue with a histogram of hourly state of energy\n",
    "- Realizing a 36 hour time horizon could take advantage of all available NYISO price information at any given time, and increase profit (\\$1,544) over a 24 hour time horizon (\\$1,067)"
   ]
  },
  {
   "cell_type": "markdown",
   "metadata": {
    "collapsed": true
   },
   "source": [
    "### References\n",
    "\n",
    "Salles, Mauricio B. C., et al. 2017. Potential Arbitrage Revenue of Energy Storage Systems in PJM. Energies 10:8.\n",
    "\n",
    "Sioshansi, Ramteen, et al. 2009. Estimating the Value of Electricity Storage in PJM: Arbitrage and Some Welfare Effects. Energy Economics 31:2, 269-277.\n",
    "\n",
    "Wang, Hao and Zhang, Baosen, 2018. Energy Storage Arbitrage in Real-Time Markets via Reinforcement Learning. IEEE PES General Meeting."
   ]
  },
  {
   "cell_type": "code",
   "execution_count": null,
   "metadata": {
    "collapsed": true
   },
   "outputs": [],
   "source": []
  }
 ],
 "metadata": {
  "kernelspec": {
   "display_name": "Python 2",
   "language": "python",
   "name": "python2"
  },
  "language_info": {
   "codemirror_mode": {
    "name": "ipython",
    "version": 2
   },
   "file_extension": ".py",
   "mimetype": "text/x-python",
   "name": "python",
   "nbconvert_exporter": "python",
   "pygments_lexer": "ipython2",
   "version": "2.7.13"
  }
 },
 "nbformat": 4,
 "nbformat_minor": 2
}
